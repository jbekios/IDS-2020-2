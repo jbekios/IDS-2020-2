{
  "nbformat": 4,
  "nbformat_minor": 0,
  "metadata": {
    "colab": {
      "name": "Laboratorio02-alumno.ipynb",
      "provenance": []
    },
    "kernelspec": {
      "name": "python3",
      "display_name": "Python 3"
    }
  },
  "cells": [
    {
      "cell_type": "markdown",
      "metadata": {
        "id": "mN2ZOcJ-_6nP"
      },
      "source": [
        "# Laborotario 02: Scraping y visualización\n",
        "\n",
        "**Problema:** Leer archivos archivos de diferentes fuentes para extraer los datos que son necesarios para realizar un análisis visual y estadístico. \n",
        "\n",
        "**Objetivos de aprendizaje:**\n",
        "  * Obtener una introducción a las estructuras de datos de `DataFrame` y `Series` de la biblioteca de *Pandas*\n",
        "  * Acceder y manipular datos dentro de `DataFrame` y `Series`\n",
        "  * Importar datos CSV a un `DataFrame` de *Pandas*\n",
        "  * Reindexar un `DataFrame` para obtener datos aleatorios\n",
        "  * Leer datos desde una página Web\n",
        "  *\n",
        "  *\n",
        "\n",
        "## 1. Introducción rápida a Pandas\n",
        "\n",
        " [*pandas*](http://pandas.pydata.org/) es una API de análisis de datos en columnas, ideal para manipular y analizar datos de entrada. Además, muchos marcos de trabajo de AA admiten las estructuras de datos *pandas* como entradas.\n",
        "Si bien una introducción detallada a la API de *pandas* abarcaría muchas páginas, los conceptos principales que presentamos a continuación son simples. Para obtener una referencia más completa, el [sitio de documentación de *pandas*](http://pandas.pydata.org/pandas-docs/stable/index.html) incluye una documentación exhaustiva y numerosos instructivos.\n",
        "\n",
        "### 1.1 Conceptos básicos\n",
        "\n",
        "La siguiente línea importa la API de *pandas* e imprime la versión de la API:"
      ]
    },
    {
      "cell_type": "code",
      "metadata": {
        "id": "aSRYu62xUi3g"
      },
      "source": [
        ""
      ],
      "execution_count": null,
      "outputs": []
    },
    {
      "cell_type": "markdown",
      "metadata": {
        "id": "s_JOISVgmn9v"
      },
      "source": [
        " Las estructuras de datos principales en *pandas* están implementadas en dos clases:\n",
        "\n",
        "  * **`DataFrame`**, que puedes imaginar como una tabla de datos relacional, con filas y columnas con nombre.\n",
        "  * **`Series`**, que es una columna simple. Una clase `DataFrame` incluye una o más `Series` y un nombre para cada `Series`.\n",
        "\n",
        "El marco de datos es una abstracción que se usa normalmente para manipular datos. Hay implementaciones similares en [Spark](https://spark.apache.org/) y [R](https://www.r-project.org/about."
      ]
    },
    {
      "cell_type": "markdown",
      "metadata": {
        "id": "fjnAk1xcU0yc"
      },
      "source": [
        " Una manera de crear una `Series` es construir un objeto de `Series`. Por ejemplo:"
      ]
    },
    {
      "cell_type": "code",
      "metadata": {
        "id": "DFZ42Uq7UFDj"
      },
      "source": [
        ""
      ],
      "execution_count": null,
      "outputs": []
    },
    {
      "cell_type": "markdown",
      "metadata": {
        "id": "U5ouUp1cU6pC"
      },
      "source": [
        " Los objetos de `DataFrame` pueden crearse al enviar un `dict` que asigne nombres de columnas de `string` a sus `Series` correspondientes. Si las `Series` no coinciden con la longitud, los valores que falten se completan con valores [NA/NaN](http://pandas.pydata.org/pandas-docs/stable/missing_data.html) especiales. Ejemplo:"
      ]
    },
    {
      "cell_type": "code",
      "metadata": {
        "id": "avgr6GfiUh8t"
      },
      "source": [
        ""
      ],
      "execution_count": null,
      "outputs": []
    },
    {
      "cell_type": "markdown",
      "metadata": {
        "id": "oa5wfZT7VHJl"
      },
      "source": [
        " Pero por lo general, cargas un archivo completo en un `DataFrame`. El siguiente ejemplo carga un archivo con datos de viviendas de California. Ejecuta la siguiente celda para cargar los datos y crear definiciones de funciones:"
      ]
    },
    {
      "cell_type": "code",
      "metadata": {
        "id": "av6RYOraVG1V"
      },
      "source": [
        ""
      ],
      "execution_count": null,
      "outputs": []
    },
    {
      "cell_type": "markdown",
      "metadata": {
        "id": "WrkBjfz5kEQu"
      },
      "source": [
        " En el ejemplo de arriba, se usó `DataFrame.describe` para mostrar estadísticas interesantes sobre un `DataFrame`. Otra función útil es `DataFrame.head`, que muestra los primeros registros de un `DataFrame`:"
      ]
    },
    {
      "cell_type": "code",
      "metadata": {
        "id": "s3ND3bgOkB5k"
      },
      "source": [
        ""
      ],
      "execution_count": null,
      "outputs": []
    },
    {
      "cell_type": "markdown",
      "metadata": {
        "id": "w9-Es5Y6laGd"
      },
      "source": [
        " Otra función util de *pandas* es la generación de gráficos. Por ejemplo, `DataFrame.hist` permite estudiar rápidamente la distribución de los valores en una columna:"
      ]
    },
    {
      "cell_type": "code",
      "metadata": {
        "id": "nqndFVXVlbPN"
      },
      "source": [
        ""
      ],
      "execution_count": null,
      "outputs": []
    },
    {
      "cell_type": "markdown",
      "metadata": {
        "id": "XtYZ7114n3b-"
      },
      "source": [
        " ## Acceso a los datos\n",
        "\n",
        "Puedes acceder a los datos de `DataFrame` mediante las operaciones convencionales de dict/list de Python:"
      ]
    },
    {
      "cell_type": "code",
      "metadata": {
        "id": "_TFm7-looBFF"
      },
      "source": [
        ""
      ],
      "execution_count": null,
      "outputs": []
    },
    {
      "cell_type": "code",
      "metadata": {
        "id": "V5L6xacLoxyv"
      },
      "source": [
        ""
      ],
      "execution_count": null,
      "outputs": []
    },
    {
      "cell_type": "code",
      "metadata": {
        "id": "gcYX1tBPugZl"
      },
      "source": [
        ""
      ],
      "execution_count": null,
      "outputs": []
    },
    {
      "cell_type": "markdown",
      "metadata": {
        "id": "65g1ZdGVjXsQ"
      },
      "source": [
        " Además, *pandas* proporciona una API muy enriquecida para una [indexación y selección](http://pandas.pydata.org/pandas-docs/stable/indexing.html) avanzadas, que es un tema demasiado amplio como para cubrirlo aquí."
      ]
    },
    {
      "cell_type": "markdown",
      "metadata": {
        "id": "RM1iaD-ka3Y1"
      },
      "source": [
        " ## Manipulación de datos\n",
        "\n",
        "Puedes aplicar operaciones aritméticas básicas de Python a las `Series`. Por ejemplo:"
      ]
    },
    {
      "cell_type": "code",
      "metadata": {
        "id": "XWmyCFJ5bOv-"
      },
      "source": [
        ""
      ],
      "execution_count": null,
      "outputs": []
    },
    {
      "cell_type": "markdown",
      "metadata": {
        "id": "TQzIVnbnmWGM"
      },
      "source": [
        " [NumPy](http://www.numpy.org/) es un kit de herramientas popular para el cálculo científico. Las `Series` de *pandas* pueden usarse como argumentos para la mayoría de las funciones NumPy:"
      ]
    },
    {
      "cell_type": "code",
      "metadata": {
        "id": "ko6pLK6JmkYP"
      },
      "source": [
        ""
      ],
      "execution_count": null,
      "outputs": []
    },
    {
      "cell_type": "markdown",
      "metadata": {
        "id": "xmxFuQmurr6d"
      },
      "source": [
        " Para obtener información sobre transformaciones más complejas de una sola columna, puedes usar `Series.apply`. Al igual que la función [función map](https://docs.python.org/2/library/functions.html#map) de Python, `Series.apply` acepta como argumento una función [función lambda](https://docs.python.org/2/tutorial/controlflow.html#lambda-expressions), que se aplica a cada valor.\n",
        "\n",
        "El siguiente ejemplo crea una nueva `Series` que indica si la `population` es superior a un millón:"
      ]
    },
    {
      "cell_type": "code",
      "metadata": {
        "id": "Fc1DvPAbstjI"
      },
      "source": [
        ""
      ],
      "execution_count": null,
      "outputs": []
    },
    {
      "cell_type": "markdown",
      "metadata": {
        "id": "ZeYYLoV9b9fB"
      },
      "source": [
        " \n",
        "Modificar `DataFrames` también es simple. Por ejemplo, el siguiente código agrega dos `Series` a un `DataFrame` existente:"
      ]
    },
    {
      "cell_type": "code",
      "metadata": {
        "id": "0gCEX99Hb8LR"
      },
      "source": [
        ""
      ],
      "execution_count": null,
      "outputs": []
    },
    {
      "cell_type": "markdown",
      "metadata": {
        "id": "6qh63m-ayb-c"
      },
      "source": [
        " ## Ejercicio n.º 1\n",
        "\n",
        "Para modificar la tabla de `cities`, agrega una nueva columna booleana que sea Verdadera si y solo si *ambos* de los siguientes valores son Verdaderos:\n",
        "\n",
        "  * La ciudad le debe su nombre a un santo.\n",
        "  * La ciudad tiene un área superior a 50 millas cuadradas.\n",
        "\n",
        "**Nota:** Las `Series` booleanas se combinan en función de los bits, en lugar de los operadores booleanos tradicionales. Por ejemplo, cuando utilices *logical and*, usa `&` en lugar de `and`.\n",
        "\n",
        "**Hint:** \"San\" en español representa \"santo\"."
      ]
    },
    {
      "cell_type": "code",
      "metadata": {
        "id": "zCOn8ftSyddH"
      },
      "source": [
        ""
      ],
      "execution_count": null,
      "outputs": []
    },
    {
      "cell_type": "markdown",
      "metadata": {
        "id": "YHIWvc9Ms-Ll"
      },
      "source": [
        " ### Solución\n",
        "\n",
        "Haz clic a continuación para obtener una solución."
      ]
    },
    {
      "cell_type": "markdown",
      "metadata": {
        "id": "f-xAOJeMiXFB"
      },
      "source": [
        " ## Índices\n",
        "Los objetos `Series` y `DataFrame` también definen una propiedad de `index` que asigna un valor de identificador a cada elemento `Series` o fila `DataFrame`.\n",
        "\n",
        "De forma predeterminada, en la construcción, *pandas* asigna valores de índice que reflejan la solicitud de los datos de origen. Una vez creados, los valores de índice son estables, es decir, no cambian cuando cambia el orden de los datos."
      ]
    },
    {
      "cell_type": "code",
      "metadata": {
        "id": "2684gsWNinq9"
      },
      "source": [
        ""
      ],
      "execution_count": null,
      "outputs": []
    },
    {
      "cell_type": "code",
      "metadata": {
        "id": "F_qPe2TBjfWd"
      },
      "source": [
        ""
      ],
      "execution_count": null,
      "outputs": []
    },
    {
      "cell_type": "markdown",
      "metadata": {
        "id": "hp2oWY9Slo_h"
      },
      "source": [
        " Llama `DataFrame.reindex` para cambiar el orden de las filas de forma manual. Por ejemplo, la siguiente acción tiene el mismo efecto que ordenar los valores por nombre de ciudad:"
      ]
    },
    {
      "cell_type": "code",
      "metadata": {
        "id": "sN0zUzSAj-U1"
      },
      "source": [
        ""
      ],
      "execution_count": null,
      "outputs": []
    },
    {
      "cell_type": "markdown",
      "metadata": {
        "id": "-GQFz8NZuS06"
      },
      "source": [
        " La reindexación es una excelente manera de seleccionar un `DataFrame` de forma aleatoria. En el ejemplo que se muestra a continuación, tomamos el índice, que es del tipo matriz, y lo enviamos a la función `random.permutation` de NumPy, que selecciona sus valores de forma aleatoria. Utilizar la `reindexación` con esta matriz aleatoria provoca que las filas de `DataFrame` se seleccionen de forma aleatoria de la misma manera.\n",
        "¡Prueba ejecutar la siguiente celda varias veces!"
      ]
    },
    {
      "cell_type": "code",
      "metadata": {
        "id": "mF8GC0k8uYhz"
      },
      "source": [
        ""
      ],
      "execution_count": null,
      "outputs": []
    },
    {
      "cell_type": "markdown",
      "metadata": {
        "id": "fSso35fQmGKb"
      },
      "source": [
        " Para obtener más información, consulta [Documentación de índice](http://pandas.pydata.org/pandas-docs/stable/indexing.html#index-objects)."
      ]
    },
    {
      "cell_type": "markdown",
      "metadata": {
        "id": "8UngIdVhz8C0"
      },
      "source": [
        " ## Ejercicio n.º 2\n",
        "\n",
        "El método de `reindex` permite los valores de índice que no están en los valores de índice originales de `DataFrame`. Pruébalo y observa lo que sucede si usas esos valores. ¿Por qué supones que los permite?"
      ]
    },
    {
      "cell_type": "code",
      "metadata": {
        "id": "PN55GrDX0jzO"
      },
      "source": [
        ""
      ],
      "execution_count": null,
      "outputs": []
    },
    {
      "cell_type": "markdown",
      "metadata": {
        "id": "TJffr5_Jwqvd"
      },
      "source": [
        " ### Solución\n",
        "\n",
        "Haz clic a continuación para conocer la solución."
      ]
    },
    {
      "cell_type": "markdown",
      "metadata": {
        "id": "8oSvi2QWwuDH"
      },
      "source": [
        " Si la matriz de la entrada `reindex` incluye valores que no se encuentran en los valores de índice originales `DataFrame`, `reindex` agregará nuevas filas para esos índices \"faltantes\" y completará todas las columnas correspondientes con los valores `NaN`:"
      ]
    },
    {
      "cell_type": "code",
      "metadata": {
        "id": "yBdkucKCwy4x"
      },
      "source": [
        ""
      ],
      "execution_count": null,
      "outputs": []
    },
    {
      "cell_type": "markdown",
      "metadata": {
        "id": "2l82PhPbwz7g"
      },
      "source": [
        " Este comportamiento es util, ya que por lo general los índices son strings extraídos de los datos actuales (consulta la [*pandas* reindex\n",
        "documentation](http://pandas.pydata.org/pandas-docs/stable/generated/pandas.DataFrame.reindex.html) para obtener un ejemplo en el que los valores de índice son nombres de navegadores).\n",
        "\n",
        "En este caso, permitir los índices \"faltantes\" facilita la reindexación mediante una lista externa, dado que no tienes que preocuparte por sanear directamente las entradas."
      ]
    },
    {
      "cell_type": "markdown",
      "metadata": {
        "id": "vAiW10-MXNdS"
      },
      "source": [
        "## 2. Obtener datos desde una página HTML\n",
        "\n",
        "1. Obtener los datos de una página web (http://www.sismologia.cl/links/tabla.html), extraer la información relevante y convertirla a un DataFrame.\n",
        "2. Crear una columna llamada 'magnitud_int' y guardar los valores enteros como tipo de dato float.\n",
        "3. Imprimir la magnitud máxima.\n",
        "4. Imprimir la magnitud mínima.\n",
        "5. Imprimir la magnitud promedio.\n",
        "6. Imprimir toda la fila del dataFrame donde se encuentra la magnitud máxima.\n",
        "7. Repetir el ejercicio 3, 4, 5 y 6 solo considerando las magnitudes 'Ml'\n",
        "8. Separar la fecha de la hora.\n",
        "\n",
        "Muestre los resultados formateando la salida."
      ]
    },
    {
      "cell_type": "code",
      "metadata": {
        "id": "30BsYgB--eUh"
      },
      "source": [
        ""
      ],
      "execution_count": null,
      "outputs": []
    },
    {
      "cell_type": "code",
      "metadata": {
        "id": "GqoPNRFEJIhR"
      },
      "source": [
        ""
      ],
      "execution_count": null,
      "outputs": []
    },
    {
      "cell_type": "code",
      "metadata": {
        "id": "Z_1xW2dLJIVa"
      },
      "source": [
        ""
      ],
      "execution_count": null,
      "outputs": []
    },
    {
      "cell_type": "code",
      "metadata": {
        "id": "rHYmAMXpJHb3"
      },
      "source": [
        ""
      ],
      "execution_count": null,
      "outputs": []
    },
    {
      "cell_type": "code",
      "metadata": {
        "id": "35hH_KqMJZZl"
      },
      "source": [
        ""
      ],
      "execution_count": null,
      "outputs": []
    },
    {
      "cell_type": "code",
      "metadata": {
        "id": "5HU6_EipJaVx"
      },
      "source": [
        ""
      ],
      "execution_count": null,
      "outputs": []
    },
    {
      "cell_type": "code",
      "metadata": {
        "id": "CMgy35IeJZ9C"
      },
      "source": [
        "\n"
      ],
      "execution_count": null,
      "outputs": []
    },
    {
      "cell_type": "code",
      "metadata": {
        "id": "apD7VaUyJluU"
      },
      "source": [
        ""
      ],
      "execution_count": null,
      "outputs": []
    },
    {
      "cell_type": "markdown",
      "metadata": {
        "id": "Yt_RiGg-YJaV"
      },
      "source": [
        "## Obtener datos de un servidor implementado con API Rest.\n",
        "\n",
        "1. Obtener el valor del dólar del todo el año 2019 utilizando la API Rest: https://mindicador.cl/."
      ]
    },
    {
      "cell_type": "code",
      "metadata": {
        "id": "J3a4pg6yYKc6"
      },
      "source": [
        ""
      ],
      "execution_count": null,
      "outputs": []
    },
    {
      "cell_type": "markdown",
      "metadata": {
        "id": "ftzSLnfeYkUL"
      },
      "source": [
        "2. Graficar la variación del dólar para todo el año 2019."
      ]
    },
    {
      "cell_type": "code",
      "metadata": {
        "id": "mw65gGA8YxQO"
      },
      "source": [
        ""
      ],
      "execution_count": null,
      "outputs": []
    }
  ]
}