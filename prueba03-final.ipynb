{
  "nbformat": 4,
  "nbformat_minor": 0,
  "metadata": {
    "colab": {
      "name": "prueba03.ipynb",
      "provenance": []
    },
    "kernelspec": {
      "name": "python3",
      "display_name": "Python 3"
    }
  },
  "cells": [
    {
      "cell_type": "markdown",
      "metadata": {
        "id": "5Ym1M2KSTEAj"
      },
      "source": [
        "# Prueba 03: Introducción a Data Science\n",
        "\n",
        "**Nombre del alumno**:\n",
        "\n",
        "**Contenidos**:\n",
        "* Probabilidades\n",
        "* Aprendizaje no supervisado\n",
        "* Redes neuronales artificiales\n",
        "\n",
        "**Problema**: La prueba tiene un carácter teórico-práctico y su objetivo es resolver un problema de ciencia de datos utilizando técnicas de probabilidades, aprendizaje no supervisado o redes neuronales artificiales. \n",
        "\n",
        "Los alumnos deberán bajar un ejercicio del sistema UCN virtual y deberán aplicar el método de ciencia de datos indicado en el laboratorio.\n",
        "\n",
        "**Método**: El problema tiene que descomponerse en las siguientes etapas.\n",
        "1. Descripción del problema y objetivos.\n",
        "2. Recolección de datos.\n",
        "3. Procesamiento de los datos.\n",
        "4. Exploración/Visualización.\n",
        "5. Análisis/Aprendizaje automático.\n",
        "6. Resultados.\n",
        "7. Conclusiones.\n",
        "\n",
        "**Entrega**: Cada alumno deberá subir su **notebook** a la plataforma campus virtual. El plazo de entrega es el día **23 de enero hasta las 20:00 horas**. Los archivos **deben ser nombrados** con el apellido y el nombre del alumno. Por ejemplo, Si su nombre y apellido es: \"Juan Bekios\" el nombre del archivo será bekios_juan.ipynb.\n",
        "\n",
        "#Problema"
      ]
    },
    {
      "cell_type": "markdown",
      "metadata": {
        "id": "YbKrRFsCWx3d"
      },
      "source": [
        "## 1. Descripción del problema y objetivos.\n",
        "\n",
        "``(borrar es solo un texto de referencia)\n",
        "Describir el problema con sus propias palabras y definir los objetivos que usted sean convenientes para resolverlo.``\n",
        "\n",
        "\n"
      ]
    },
    {
      "cell_type": "markdown",
      "metadata": {
        "id": "usqW1XKdYWjo"
      },
      "source": [
        "## 2. Recolección de datos\n",
        "\n",
        "``(borrar es solo un texto de referencia)\n",
        "Describir brevemente la forma como serán recolectados los datos e indicar la cantidad de atributos y etiquetas. ¿De que tipo son?``\n",
        "\n",
        "``Puede utilizar tablas para poder explicarlos``\n",
        ">First column name | Second column name\n",
        ">--- | ---\n",
        ">Row 1, Col 1 | Row 1, Col 2\n",
        ">Row 2, Col 1 | Row 2, Col 2"
      ]
    },
    {
      "cell_type": "code",
      "metadata": {
        "id": "RivmO1w9S-ps"
      },
      "source": [
        "# Escriba un código para cargar los datos"
      ],
      "execution_count": null,
      "outputs": []
    },
    {
      "cell_type": "markdown",
      "metadata": {
        "id": "HD_249qiZGmD"
      },
      "source": [
        "##3. Procesamiento de los datos\n",
        "\n",
        "``(borrar es solo un texto de referencia)\n",
        "¿Es necesario utilizar todos los datos?, ¿hay datos perdidos (missing)?, ¿Se deben eliminar datos en este problema?,¿es necesario procesar los datos para que el clasificador aprenda mejor?``\n",
        "\n",
        "###3.1 Mejora de los datos\n"
      ]
    },
    {
      "cell_type": "code",
      "metadata": {
        "id": "2Wky-alZZsey"
      },
      "source": [
        "# Escriba un código para procesar los datos (Si es necesario)"
      ],
      "execution_count": null,
      "outputs": []
    },
    {
      "cell_type": "markdown",
      "metadata": {
        "id": "hB39TD9MfUPr"
      },
      "source": [
        "###3.2 Preparar datos para entrenamiento y validación\n",
        "\n",
        "Para entrenamiento se utilizará el 80% de los datos y el resto, 20%, se usarán para validación. Seleccióne un conjunto estratificado de datos tanto para el entrenamiento como para el conjunto de validación."
      ]
    },
    {
      "cell_type": "code",
      "metadata": {
        "id": "c51eciWOfdUP"
      },
      "source": [
        "# Escribir código para entrenamiento y validación"
      ],
      "execution_count": null,
      "outputs": []
    },
    {
      "cell_type": "markdown",
      "metadata": {
        "id": "ymzWQNqGZy4j"
      },
      "source": [
        "##4. Exploración y visualización\n",
        "\n",
        "``(borrar es solo un texto de referencia)\n",
        "Proyectar los datos a dos dimensiones utilizando algún método visto en clases. Utilizar un gráfico **adecuado** para mostrar aquellas proyecciones que corresponden a una clase, sobre el mismo gráfico las proyecciones de la segunda clase, etc. Utilizar colores y etiquetas que permitan entender el gráfico. Explicar lo que vean en el gráfico.``\n",
        "\n",
        "###4.1 Proyección de datos"
      ]
    },
    {
      "cell_type": "code",
      "metadata": {
        "id": "BXTxjCfwar2j"
      },
      "source": [
        "# Escriba el código para proyección de datos"
      ],
      "execution_count": null,
      "outputs": []
    },
    {
      "cell_type": "markdown",
      "metadata": {
        "id": "0zOGHsVgavRG"
      },
      "source": [
        "``(borrar es solo un texto de referencia)\n",
        "Explique brevemente los de su implementación.``\n",
        "\n",
        "###4.2 Visualización"
      ]
    },
    {
      "cell_type": "code",
      "metadata": {
        "id": "_m_qkR5zbBI5"
      },
      "source": [
        "# Escriba el código para mostrar el o los gráficos"
      ],
      "execution_count": null,
      "outputs": []
    },
    {
      "cell_type": "markdown",
      "metadata": {
        "id": "OMXX-557bcyT"
      },
      "source": [
        "``(borrar es solo un texto de referencia)\n",
        "Explique brevemente su implementación y que muestra el gráfico.``\n",
        "\n",
        "##5. Análisis/Aprendizaje automático.\n",
        "\n",
        "``(borrar es solo un texto de referencia)\n",
        "Explicar el método de aprendizaje automático a aplicar para resolver este problema. Explicar que métricas serán utilizadas.``\n",
        "\n",
        "###5.1 Entrenamiento\n",
        "\n",
        "``(borrar es solo un texto de referencia)\n",
        "Explicar brevemente como se implemenentará el entrenamiento.``\n"
      ]
    },
    {
      "cell_type": "code",
      "metadata": {
        "id": "p6pkpfEEc-98"
      },
      "source": [
        "# Escribir el código de entrenamiento del modelo"
      ],
      "execution_count": null,
      "outputs": []
    },
    {
      "cell_type": "markdown",
      "metadata": {
        "id": "bDbz_d5PdJpx"
      },
      "source": [
        "###5.2 Validación\n",
        "\n",
        "``(borrar es solo un texto de referencia)\n",
        "Explicar brevemente como se implemenentará la validación.``"
      ]
    },
    {
      "cell_type": "code",
      "metadata": {
        "id": "fdoE4PStdNjM"
      },
      "source": [
        "# Escribir el código de validación para el modelo entrenado"
      ],
      "execution_count": null,
      "outputs": []
    },
    {
      "cell_type": "markdown",
      "metadata": {
        "id": "OPdyHDt3d1zs"
      },
      "source": [
        "##6. Resultados\n",
        "\n",
        "``(borrar es solo un texto de referencia)\n",
        "Tabular los resultados de forma ordenada los datos obtenidos en el entrenamiento y pruebas. Utilizar tablas y gráficos adecuados para poder explicar los resultados.``\n",
        "\n",
        "``Puede utilizar tablas para poder explicarlos``\n",
        ">First column name | Second column name\n",
        ">--- | ---\n",
        ">Row 1, Col 1 | Row 1, Col 2\n",
        ">Row 2, Col 1 | Row 2, Col 2"
      ]
    },
    {
      "cell_type": "code",
      "metadata": {
        "id": "jEaF8mipeSNh"
      },
      "source": [
        "# Código para mostrar gráficos si lo estima conveniente"
      ],
      "execution_count": null,
      "outputs": []
    },
    {
      "cell_type": "markdown",
      "metadata": {
        "id": "OtGjGAaPeWtR"
      },
      "source": [
        "##7. Conclusiones\n",
        "\n",
        "``(borrar es solo un texto de referencia)\n",
        "Explicar los resultados. ¿Importancia de las características?, ¿dimensiones?, ¿son buenos los resultados?, ¿que problemas encuentra en estos datos?. Se lograrón los objetivos propuestos dentro del punto de vista del análisis (no personales).``"
      ]
    }
  ]
}