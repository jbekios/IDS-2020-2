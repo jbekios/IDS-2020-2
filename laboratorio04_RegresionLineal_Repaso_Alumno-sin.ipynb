{
 "cells": [
  {
   "cell_type": "markdown",
   "metadata": {
    "id": "F7D-mNEdlUsV"
   },
   "source": [
    "![](https://drive.google.com/uc?export=view&id=1-5X9OUkA-C2Ih1gOS9Jd7GmkTWUEpDg1)\n",
    "\n",
    "Asignatura: Introducción a Data Science\n",
    "\n",
    "Profesor: Juan Bekios Calfa\n",
    "\n",
    "---\n",
    "\n",
    "\n",
    "#Laboratorio Número 4: Regresión Lineal\n",
    "\n",
    "**Integrantes del Grupo:**\n",
    "\n",
    "* *Nombre y apellido integrante 1*\n",
    "* *Nombre y apellido integrante 2*\n",
    "\n",
    "**Objetivo:** \n",
    "\n",
    "\n",
    "*   Analizar los datos entregados para el laboratorio.\n",
    "*   Calcular una regresión lineal utilizando el método analítico.\n",
    "*   Calcular la regresión lineal utilizando el método de descenso del gradiente.\n",
    "*   Comparar los resultados.\n",
    "\n",
    "\n",
    "## Analizar los datos entregados para el laboratorio\n",
    "\n",
    "### Cargar los datos\n",
    "\n",
    "En el ejemplo se hace una carga utilizando *Google Drive*:\n",
    "\n",
    "1.   Hacer click en la pestaña **Files** del panel de la izquierdo.\n",
    "2.   Hacer click en ***Mount Drive***.\n",
    "3.   Ir a la url indicada en *Go to this URL in a browser*.\n",
    "4.   Copiar código de acceso y agregarlo a *Enter your authorization code*.\n",
    "5.   Establecer la conexión con Pandas.\n",
    "\n",
    "También se puede subir el archivo utilizando la opción *Upload* del panel izquierdo.\n",
    "\n",
    "\n",
    "\n"
   ]
  },
  {
   "cell_type": "code",
   "execution_count": 1,
   "metadata": {
    "colab": {
     "base_uri": "https://localhost:8080/"
    },
    "executionInfo": {
     "elapsed": 56370,
     "status": "ok",
     "timestamp": 1606332516859,
     "user": {
      "displayName": "Juan Bekios",
      "photoUrl": "https://lh3.googleusercontent.com/a-/AOh14Gi2JWCO19gvDJyrxfHfNFNiXBEKcXQjNf-Ywq-j_w=s64",
      "userId": "07279642735588932357"
     },
     "user_tz": 180
    },
    "id": "ANu_LgwUmwpv",
    "outputId": "fabf6b12-3680-4b67-b8b2-1e7701020b2d"
   },
   "outputs": [
    {
     "name": "stdout",
     "output_type": "stream",
     "text": [
      "Mounted at /content/drive\n"
     ]
    }
   ],
   "source": [
    "#Conectarnos con Google Drive\n",
    "from google.colab import drive\n",
    "drive.mount('/content/drive')"
   ]
  },
  {
   "cell_type": "markdown",
   "metadata": {
    "id": "m1LUq4ZJpWiL"
   },
   "source": [
    "### Cargar los datos utilizando pandas"
   ]
  },
  {
   "cell_type": "code",
   "execution_count": 2,
   "metadata": {
    "colab": {
     "base_uri": "https://localhost:8080/",
     "height": 198
    },
    "executionInfo": {
     "elapsed": 4737,
     "status": "ok",
     "timestamp": 1606332764589,
     "user": {
      "displayName": "Juan Bekios",
      "photoUrl": "https://lh3.googleusercontent.com/a-/AOh14Gi2JWCO19gvDJyrxfHfNFNiXBEKcXQjNf-Ywq-j_w=s64",
      "userId": "07279642735588932357"
     },
     "user_tz": 180
    },
    "id": "cV_Wt1wwlMa4",
    "outputId": "afcb735c-db76-4de7-82b8-75e845cd7f59"
   },
   "outputs": [
    {
     "data": {
      "text/html": [
       "<div>\n",
       "<style scoped>\n",
       "    .dataframe tbody tr th:only-of-type {\n",
       "        vertical-align: middle;\n",
       "    }\n",
       "\n",
       "    .dataframe tbody tr th {\n",
       "        vertical-align: top;\n",
       "    }\n",
       "\n",
       "    .dataframe thead th {\n",
       "        text-align: right;\n",
       "    }\n",
       "</style>\n",
       "<table border=\"1\" class=\"dataframe\">\n",
       "  <thead>\n",
       "    <tr style=\"text-align: right;\">\n",
       "      <th></th>\n",
       "      <th>x</th>\n",
       "      <th>y</th>\n",
       "    </tr>\n",
       "  </thead>\n",
       "  <tbody>\n",
       "    <tr>\n",
       "      <th>0</th>\n",
       "      <td>5.5</td>\n",
       "      <td>6.0</td>\n",
       "    </tr>\n",
       "    <tr>\n",
       "      <th>1</th>\n",
       "      <td>5.0</td>\n",
       "      <td>5.2</td>\n",
       "    </tr>\n",
       "    <tr>\n",
       "      <th>2</th>\n",
       "      <td>5.5</td>\n",
       "      <td>5.7</td>\n",
       "    </tr>\n",
       "    <tr>\n",
       "      <th>3</th>\n",
       "      <td>5.0</td>\n",
       "      <td>4.9</td>\n",
       "    </tr>\n",
       "    <tr>\n",
       "      <th>4</th>\n",
       "      <td>5.9</td>\n",
       "      <td>5.8</td>\n",
       "    </tr>\n",
       "  </tbody>\n",
       "</table>\n",
       "</div>"
      ],
      "text/plain": [
       "     x    y\n",
       "0  5.5  6.0\n",
       "1  5.0  5.2\n",
       "2  5.5  5.7\n",
       "3  5.0  4.9\n",
       "4  5.9  5.8"
      ]
     },
     "execution_count": 2,
     "metadata": {
      "tags": []
     },
     "output_type": "execute_result"
    }
   ],
   "source": [
    "import pandas as pd\n",
    "\n",
    "df_terremoto = pd.read_csv('/content/drive/My Drive/D-UCN/Classes/IntroDataScience/2019-2/Laboratorios/L05.1-Regresion Lineal/1366.dat', sep='\\t', names=['x', 'y'])\n",
    "df_terremoto.head()"
   ]
  },
  {
   "cell_type": "markdown",
   "metadata": {
    "id": "mQPpBrMUpf16"
   },
   "source": [
    "###Graficar los datos tal como vienen en el archivo\n",
    "\n",
    "Se grafican los datos sin ser normalizados. Se recomienda normalizar los datos para que los clasificadores se condicionen mejor."
   ]
  },
  {
   "cell_type": "code",
   "execution_count": 20,
   "metadata": {
    "colab": {
     "base_uri": "https://localhost:8080/",
     "height": 323
    },
    "executionInfo": {
     "elapsed": 1277,
     "status": "ok",
     "timestamp": 1606333945479,
     "user": {
      "displayName": "Juan Bekios",
      "photoUrl": "https://lh3.googleusercontent.com/a-/AOh14Gi2JWCO19gvDJyrxfHfNFNiXBEKcXQjNf-Ywq-j_w=s64",
      "userId": "07279642735588932357"
     },
     "user_tz": 180
    },
    "id": "zjLW7Bl6pze1",
    "outputId": "331dbb94-e1d0-49d6-b939-035429901727"
   },
   "outputs": [
    {
     "data": {
      "image/png": "[encoded data removed]",
      "text/plain": [
       "<Figure size 640x320 with 1 Axes>"
      ]
     },
     "metadata": {
      "tags": []
     },
     "output_type": "display_data"
    }
   ],
   "source": [
    "import matplotlib.pyplot as plt\n",
    "\n",
    "plt.figure(num=None, figsize=(8, 4), dpi=80, facecolor='w', edgecolor='k')\n",
    "plt.scatter(df_terremoto['x'], df_terremoto['y'], marker='x', color='g')\n",
    "\n",
    "plt.title('Gráfico de dispersión del archivo de entrada (Escala vs Impacto)')\n",
    "plt.xlabel('x')\n",
    "plt.ylabel('y')\n",
    "plt.grid(True)"
   ]
  },
  {
   "cell_type": "markdown",
   "metadata": {
    "id": "sMQ0r4W5q2I8"
   },
   "source": [
    "### Normalizar los datos\n",
    "\n",
    "**Pregunta para el grupo:** ¿Que efecto produce la normalización dada por def norm_data(df) sobre los datos entregados en el archivo?. Describa brevemente la salida esperada de los datos normalizados.\n",
    "\n",
    "**Respuesta del grupo**:\n",
    "\n",
    "...\n",
    "\n",
    "...\n",
    "\n",
    "..."
   ]
  },
  {
   "cell_type": "code",
   "execution_count": 26,
   "metadata": {
    "executionInfo": {
     "elapsed": 715,
     "status": "ok",
     "timestamp": 1606336192369,
     "user": {
      "displayName": "Juan Bekios",
      "photoUrl": "https://lh3.googleusercontent.com/a-/AOh14Gi2JWCO19gvDJyrxfHfNFNiXBEKcXQjNf-Ywq-j_w=s64",
      "userId": "07279642735588932357"
     },
     "user_tz": 180
    },
    "id": "xuo53wAlr07l"
   },
   "outputs": [],
   "source": [
    "def norm_data(df):\n",
    "  x = df['x'].values\n",
    "  y = df['y'].values\n",
    "  x_nor = (x - min(x))/(max(x) - min(x))\n",
    "  y_nor = (y - min(y))/(max(y) - min(y))\n",
    "  data = {'x': x_nor, 'y': y_nor}\n",
    "  df_new = pd.DataFrame(data=data)\n",
    "  return df_new"
   ]
  },
  {
   "cell_type": "markdown",
   "metadata": {
    "id": "09kzvl50r4Zq"
   },
   "source": [
    "### Graficar los datos normalizados\n",
    "\n",
    "Implemente un código en Python que grafique los datos normalizados."
   ]
  },
  {
   "cell_type": "code",
   "execution_count": null,
   "metadata": {
    "id": "xZ5955oJr83G"
   },
   "outputs": [],
   "source": [
    "# -- agregar código --\n",
    "# -- agregar código --\n",
    "# -- agregar código --\n",
    "\n",
    "plt.xlabel('x normalizado')\n",
    "plt.ylabel(\"y normalizado\")"
   ]
  },
  {
   "cell_type": "markdown",
   "metadata": {
    "id": "bl5rvBJ5jjsM"
   },
   "source": [
    "**Pregunta para el grupo:** ¿Qué sucede al normalizar los datos?,¿Se pierde información?\n",
    "\n",
    "**Respuesta del grupo**:\n",
    "\n",
    "...\n",
    "\n",
    "...\n",
    "\n",
    "..."
   ]
  },
  {
   "cell_type": "markdown",
   "metadata": {
    "id": "6Owen6NCXCh4"
   },
   "source": [
    "**Pregunta para el grupo:** Implemente la normalización de los datos utilizando las librerías [sklearn](https://scikit-learn.org/stable/modules/generated/sklearn.preprocessing.MinMaxScaler.html#sklearn.preprocessing.MinMaxScaler). ¿Entrega los mismos resultados?\n",
    "\n",
    "**Respuesta del grupo**:\n",
    "\n",
    "...\n",
    "\n",
    "...\n",
    "\n",
    "..."
   ]
  },
  {
   "cell_type": "markdown",
   "metadata": {
    "id": "UXL6MT0badxf"
   },
   "source": [
    "**Pregunta para el grupo:** Implemente la normalización de los datos utilizando las librerías [sklearn](https://scikit-learn.org/stable/modules/generated/sklearn.preprocessing.StandardScaler.html#sklearn.preprocessing.StandardScaler) utilizando el método **StandardScaler**.\n",
    "\n",
    "**Respuesta del grupo**:\n",
    "\n",
    "...\n",
    "\n",
    "...\n",
    "\n",
    "...\n",
    "\n"
   ]
  },
  {
   "cell_type": "markdown",
   "metadata": {
    "id": "DKcGHj6ksiFP"
   },
   "source": [
    "## Regresión Lineal Analítica\n",
    "\n",
    "Ajustar la mejor función lineal utilizando el método analítico."
   ]
  },
  {
   "cell_type": "code",
   "execution_count": 33,
   "metadata": {
    "executionInfo": {
     "elapsed": 592,
     "status": "ok",
     "timestamp": 1606336271661,
     "user": {
      "displayName": "Juan Bekios",
      "photoUrl": "https://lh3.googleusercontent.com/a-/AOh14Gi2JWCO19gvDJyrxfHfNFNiXBEKcXQjNf-Ywq-j_w=s64",
      "userId": "07279642735588932357"
     },
     "user_tz": 180
    },
    "id": "s03XOOpft-YL"
   },
   "outputs": [],
   "source": [
    "import numpy as np\n",
    "\n",
    "def analytic_ls(X, y):\n",
    "  m, n = X.shape\n",
    "  A = np.zeros((n, n))\n",
    "  b = np.zeros(n)\n",
    "  for i in range(m):\n",
    "    A += np.outer(X[i], X[i])\n",
    "    b += X[i] * y[i]\n",
    "  return np.linalg.solve(A, b)"
   ]
  },
  {
   "cell_type": "code",
   "execution_count": 36,
   "metadata": {
    "colab": {
     "base_uri": "https://localhost:8080/"
    },
    "executionInfo": {
     "elapsed": 1086,
     "status": "ok",
     "timestamp": 1606336375902,
     "user": {
      "displayName": "Juan Bekios",
      "photoUrl": "https://lh3.googleusercontent.com/a-/AOh14Gi2JWCO19gvDJyrxfHfNFNiXBEKcXQjNf-Ywq-j_w=s64",
      "userId": "07279642735588932357"
     },
     "user_tz": 180
    },
    "id": "KjgYZpXnzQC0",
    "outputId": "c7d470cf-6157-476e-d463-4b416875711b"
   },
   "outputs": [
    {
     "name": "stdout",
     "output_type": "stream",
     "text": [
      "[0.51916261 0.04048403]\n"
     ]
    }
   ],
   "source": [
    "import numpy as np\n",
    "\n",
    "df_nor = norm_data(df_terremoto)\n",
    "X = np.array([df_nor['x'].astype('float'), np.ones(len(df_nor))]).T\n",
    "y = df_nor['y'].values.copy()\n",
    "\n",
    "theta = analytic_ls(X, y)\n",
    "print(theta)"
   ]
  },
  {
   "cell_type": "markdown",
   "metadata": {
    "id": "X7x6f0VDj_dv"
   },
   "source": [
    "**Pregunta para el grupo:** Explicar brevemente el método analítico.\n",
    "\n",
    "**Respuesta del grupo**:\n",
    "\n",
    "...\n",
    "\n",
    "...\n",
    "\n",
    "...\n",
    "\n",
    "**Pregunta para el grupo:** Explique como funciona el código implementado en def analytic_ls(X, y). ¿Qué es la matriz A y la matriz b?\n",
    "\n",
    "**Respuesta del grupo**:\n",
    "\n",
    "...\n",
    "\n",
    "...\n",
    "\n",
    "..."
   ]
  },
  {
   "cell_type": "markdown",
   "metadata": {
    "id": "O7EAWvDNzaYZ"
   },
   "source": [
    "#### Graficar resultados regresión\n",
    "\n",
    "Para graficar la recta obtenida por la regresión lineal se estima los valores estimados de **y** a partir de los parámetros encontrados en el punto anterior. Como los datos están normalizados sabemos que el número mínimo de **x** es cero y el número máximo es uno."
   ]
  },
  {
   "cell_type": "code",
   "execution_count": 39,
   "metadata": {
    "colab": {
     "base_uri": "https://localhost:8080/"
    },
    "executionInfo": {
     "elapsed": 1174,
     "status": "ok",
     "timestamp": 1606336595732,
     "user": {
      "displayName": "Juan Bekios",
      "photoUrl": "https://lh3.googleusercontent.com/a-/AOh14Gi2JWCO19gvDJyrxfHfNFNiXBEKcXQjNf-Ywq-j_w=s64",
      "userId": "07279642735588932357"
     },
     "user_tz": 180
    },
    "id": "Aw7XGR2uzjOB",
    "outputId": "09597542-d3e7-4832-d376-be5941006de0"
   },
   "outputs": [
    {
     "name": "stdout",
     "output_type": "stream",
     "text": [
      "0.04048403\n",
      "2.8958783849999996\n"
     ]
    }
   ],
   "source": [
    "def y_estimada(x, theta1, bias):\n",
    "  return theta1*x + bias\n",
    "\n",
    "y_estimado1 = y_estimada(0,0.51916261, 0.04048403)\n",
    "print(y_estimado1)\n",
    "\n",
    "y_estimado2 = y_estimada(5.5,0.51916261, 0.04048403)\n",
    "print(y_estimado2)\n"
   ]
  },
  {
   "cell_type": "markdown",
   "metadata": {
    "id": "Ai2TupzazuxG"
   },
   "source": [
    "### Método sklearn\n",
    "\n",
    "Utilizar la función implementada en sklearn para calcular la regresión lineal utilizando el método de mínimos cuadrados ([Sklearn](https://scikit-learn.org/stable/modules/linear_model.html#ordinary-least-squares)).\n",
    "\n",
    "**Pregunta para el grupo:** ¿Son comparables los resultados obtenidos por el método analítico vs el método de regresión lineal implementado por sklearn?\n",
    "\n",
    "**Respuesta del grupo**:\n",
    "\n",
    "...\n",
    "\n",
    "...\n",
    "\n",
    "...\n"
   ]
  },
  {
   "cell_type": "code",
   "execution_count": null,
   "metadata": {
    "id": "54QOyEWAuGn1"
   },
   "outputs": [],
   "source": [
    "#Implementación utilizando sklearn para calcular la regresión lineal de mínimos cuadrados\n",
    "\n",
    "# -- agregar código --\n",
    "# -- agregar código --\n",
    "# -- agregar código --"
   ]
  },
  {
   "cell_type": "markdown",
   "metadata": {
    "id": "40D4AyxHzmHQ"
   },
   "source": [
    "####Graficar resultados regresión"
   ]
  },
  {
   "cell_type": "code",
   "execution_count": null,
   "metadata": {
    "id": "47-66FL1nJf_"
   },
   "outputs": [],
   "source": [
    "# -- agregar código --\n",
    "# -- agregar código --\n",
    "# -- agregar código --\n",
    "\n",
    "plt.title('Gráfico de recta de regresión lineal (sklearn)')\n",
    "plt.xlabel('x normalizado')\n",
    "plt.ylabel('y normalizado')"
   ]
  },
  {
   "cell_type": "markdown",
   "metadata": {
    "id": "TZFRvJW2uLJs"
   },
   "source": [
    "## Regresión Lineal por descenso de gradiente\n",
    "\n",
    "Como se ha visto en clases, el descenso de gradiente se utiliza para encontrar los parámetros de la regresión lineal cuando la función de error (*loss*) es no convexa. \n",
    "\n",
    "El algoritmo para descenso de gradiente utilizando mínimos cuadrados es,\n",
    "\n",
    "\n",
    "<hr/>\n",
    "\n",
    "**Initialize:**\n",
    "    \n",
    "* $\\theta := 0$ \n",
    "\n",
    "**Repeat until converged:**\n",
    "\n",
    "* **For $j = 1,\\ldots,n$:**\n",
    "\n",
    "    * $\\displaystyle \\theta_j := \\theta_j + \\alpha\\frac{2}{m} \\sum_{i=1}^m \\left (\\sum_{k=1}^n \\theta_k x^{(i)}_k - y^{(i)} \\right ) x^{(i)}_j$\n",
    "\n",
    "<hr/>\n",
    "\n",
    "Y su implementación es python es la siguiente:"
   ]
  },
  {
   "cell_type": "code",
   "execution_count": 40,
   "metadata": {
    "executionInfo": {
     "elapsed": 1203,
     "status": "ok",
     "timestamp": 1606337332874,
     "user": {
      "displayName": "Juan Bekios",
      "photoUrl": "https://lh3.googleusercontent.com/a-/AOh14Gi2JWCO19gvDJyrxfHfNFNiXBEKcXQjNf-Ywq-j_w=s64",
      "userId": "07279642735588932357"
     },
     "user_tz": 180
    },
    "id": "j40k04ECuSWO"
   },
   "outputs": [],
   "source": [
    "import numpy as np\n",
    "\n",
    "x_nor = df_nor['x']\n",
    "y_nor = df_nor['y']\n",
    "\n",
    "def gradient_descent(iter=10):\n",
    "  theta = np.array([0., 0.])\n",
    "  alpha = 1.0\n",
    "  for t in range(iters):\n",
    "    theta[0] -= alpha/len(x_nor) * 2 * sum((theta[0] * x_nor + theta[1] - y_nor) * x_nor)\n",
    "    theta[1] -= alpha/len(x_nor) * 2 * sum((theta[0] * x_nor + theta[1] - y_nor))\n",
    "  return theta"
   ]
  },
  {
   "cell_type": "markdown",
   "metadata": {
    "id": "K4BQKPfDpCN_"
   },
   "source": [
    "### Gráfico de dispersión vs regresión lineal \n",
    "\n",
    "El siguiente ejemplo muestra como graficar los puntos normalizados de los datos y la recta de regresión a partir de los parámetros calculados."
   ]
  },
  {
   "cell_type": "code",
   "execution_count": 41,
   "metadata": {
    "executionInfo": {
     "elapsed": 1027,
     "status": "ok",
     "timestamp": 1606337360071,
     "user": {
      "displayName": "Juan Bekios",
      "photoUrl": "https://lh3.googleusercontent.com/a-/AOh14Gi2JWCO19gvDJyrxfHfNFNiXBEKcXQjNf-Ywq-j_w=s64",
      "userId": "07279642735588932357"
     },
     "user_tz": 180
    },
    "id": "Mk73YtFmvFld"
   },
   "outputs": [],
   "source": [
    "def plot_fit(theta):\n",
    "    plt.scatter(x_nor, y_nor, marker = 'x')\n",
    "    plt.xlabel(\"X normalizado\")\n",
    "    plt.ylabel(\"Y normalizado\")\n",
    "    xlim, ylim =(plt.gca().get_xlim(), plt.gca().get_ylim())\n",
    "    plt.plot(xlim, [theta[0]*xlim[0]+theta[1], theta[0]*xlim[1]+theta[1]], 'C1')\n",
    "    plt.xlim(xlim)\n",
    "    plt.ylim(ylim)"
   ]
  },
  {
   "cell_type": "markdown",
   "metadata": {
    "id": "lMcDOeC6vTwi"
   },
   "source": [
    "## Probar varias iteraciones (I)\n",
    "Definir un número adecuado de iteraciones utilizando un programa.\n",
    "\n",
    "**Pregunta para el grupo:** ¿Cual es el número adecuado de iteraciones para que el descendiente de gradiente funcione adecuadamente?. Pruebe con 1, 10, 100, 1000 y 10000 iteraciones.\n",
    "\n",
    "**Respuesta del grupo**:\n",
    "\n",
    "...\n",
    "\n",
    "...\n",
    "\n",
    "..."
   ]
  },
  {
   "cell_type": "code",
   "execution_count": null,
   "metadata": {
    "colab": {
     "base_uri": "https://localhost:8080/",
     "height": 279
    },
    "id": "U_htSJHlveTG",
    "outputId": "46897cbb-8128-4846-8d79-1114ffbf66c9"
   },
   "outputs": [
    {
     "data": {
      "image/png": "[encoded data removed]",
      "text/plain": [
       "<Figure size 432x288 with 1 Axes>"
      ]
     },
     "metadata": {
      "tags": []
     },
     "output_type": "display_data"
    }
   ],
   "source": [
    "plot_fit(gradient_descent(1))"
   ]
  },
  {
   "cell_type": "code",
   "execution_count": null,
   "metadata": {
    "id": "1QAY7A0k_G8n"
   },
   "outputs": [],
   "source": [
    "# Prueba con 10 iteraciones\n",
    "\n",
    "# -- agregar código --"
   ]
  },
  {
   "cell_type": "code",
   "execution_count": null,
   "metadata": {
    "id": "2OBWr4sf_RBr"
   },
   "outputs": [],
   "source": [
    "# Prueba con 100 iteraciones\n",
    "\n",
    "# -- agregar código --"
   ]
  },
  {
   "cell_type": "code",
   "execution_count": null,
   "metadata": {
    "id": "5zvEzoj4_v1O"
   },
   "outputs": [],
   "source": [
    "# Prueba con 1000 iteraciones\n",
    "\n",
    "# -- agregar código --"
   ]
  },
  {
   "cell_type": "code",
   "execution_count": null,
   "metadata": {
    "id": "GosBJRAsqS39"
   },
   "outputs": [],
   "source": [
    "# Prueba con 10000 iteraciones\n",
    "\n",
    "# -- agregar código --"
   ]
  },
  {
   "cell_type": "markdown",
   "metadata": {
    "id": "cvsnN1y0zp5r"
   },
   "source": [
    "**Pregunta para el grupo:** Para el mejor número de iteraciones. ¿Cuales son los valores de $\\theta$?. ¿Son diferentes a los obtenidos con los otros métodos?\n",
    "\n",
    "**Respuesta del grupo**:\n",
    "\n",
    "...\n",
    "\n",
    "...\n",
    "\n",
    "..."
   ]
  },
  {
   "cell_type": "markdown",
   "metadata": {
    "id": "MdjsXDRgz5t7"
   },
   "source": [
    "## Probar varias iteraciones (II)\n",
    "\n",
    "Calcular el número de iteraciones del descenso de gradiente automaticamente:\n",
    "\n",
    "1.  Implemente un gráfico donde aparezca el número de iteraciones del algoritmo de descenso de gradiente vs la función de pérdida (función de error). \n",
    "\n",
    "**Pregunta para el grupo:** Observando el gráfico. ¿Puede determinar el número de iteraciones aproximada para lograr un óptimo?. Según su punto de vista, ¿cual sería el número de iteraciones aproximado para lograr ese óptimo?\n",
    "\n",
    "**Respuesta del grupo**:\n",
    "\n",
    "...\n",
    "\n",
    "...\n",
    "\n",
    "..."
   ]
  },
  {
   "cell_type": "code",
   "execution_count": null,
   "metadata": {
    "id": "M3rQ5y871CBV"
   },
   "outputs": [],
   "source": [
    "# Gráfico número de iteraciones vs función de pérdida\n",
    "\n",
    "# -- agregar código --\n",
    "# -- agregar código --\n",
    "# -- agregar código --"
   ]
  },
  {
   "cell_type": "markdown",
   "metadata": {
    "id": "C5xERuzH1CYc"
   },
   "source": [
    "2.  Reescriba *gradient_descent()* para encontrar el mejor número de iteraciones automáticamente e imprima su resultado (número de iteración óptima y parámetros $\\theta$."
   ]
  },
  {
   "cell_type": "code",
   "execution_count": null,
   "metadata": {
    "id": "ToA35TNk11CR"
   },
   "outputs": [],
   "source": [
    "# Función para determinar los parámetros óptimos sin indicar número de iteraciones\n",
    "\n",
    "import numpy as np\n",
    "\n",
    "x_nor = df_nor['x']\n",
    "y_nor = df_nor['y']\n",
    "\n",
    "def gradient_descent():\n",
    "    theta = np.array([0., 0.])\n",
    "    # -- agregar código --\n",
    "    # -- agregar código --\n",
    "    # -- agregar código --\n",
    "    return iteraciones, theta"
   ]
  },
  {
   "cell_type": "markdown",
   "metadata": {
    "id": "h5aENEkc7t89"
   },
   "source": [
    "**Pregunta para el grupo:** ¿Cuál  es el número de iteraciones óptima obtenida por el algoritmo propuesto y sus parámetros $\\theta$?.\n",
    "\n",
    "**Respuesta del grupo**:\n",
    "\n",
    "...\n",
    "\n",
    "...\n",
    "\n",
    "..."
   ]
  },
  {
   "cell_type": "markdown",
   "metadata": {
    "id": "VjHOb6Fpa9CT"
   },
   "source": [
    "**Pregunta para el grupo:** Utilizando los métodos de normalización definidos por sklearn (MinMaxScaler y StandardScaler) y los datos sin normalizar. ¿Puede observar una mejora en utilizar datos normalizados con respecto a los  no normalizados?. Explique detalladamente y cuantitativamente (métricas) si existe una mejora.\n",
    "\n",
    "**Respuesta del grupo**:\n",
    "\n",
    "...\n",
    "\n",
    "...\n",
    "\n",
    "..."
   ]
  }
 ],
 "metadata": {
  "colab": {
   "collapsed_sections": [],
   "name": "lab04_RegresionLineal_Repaso_Alumno-sin.ipynb",
   "provenance": []
  },
  "kernelspec": {
   "display_name": "Python 3",
   "language": "python",
   "name": "python3"
  },
  "language_info": {
   "codemirror_mode": {
    "name": "ipython",
    "version": 3
   },
   "file_extension": ".py",
   "mimetype": "text/x-python",
   "name": "python",
   "nbconvert_exporter": "python",
   "pygments_lexer": "ipython3",
   "version": "3.7.9"
  }
 },
 "nbformat": 4,
 "nbformat_minor": 1
}
