{
 "cells": [
  {
   "cell_type": "markdown",
   "metadata": {
    "slideshow": {
     "slide_type": "slide"
    }
   },
   "source": [
    "# Laboratorio 06: Incertidumbre\n",
    "\n",
    "## Reconocimiento de género en imágenes de caras"
   ]
  },
  {
   "cell_type": "markdown",
   "metadata": {
    "slideshow": {
     "slide_type": "slide"
    }
   },
   "source": [
    "## Problema \n",
    "\n",
    "Se desea reconocer si una cara pertenece a un hombre o una mujer dada una imagen de una cara. La implementación del clasificador se debe realizar utilizando el material de probabilidades visto en clases.\n",
    "\n",
    "### Base de datos\n",
    "\n",
    "https://www.kaggle.com/cashutosh/gender-classification-dataset\n"
   ]
  },
  {
   "cell_type": "markdown",
   "metadata": {
    "slideshow": {
     "slide_type": "slide"
    }
   },
   "source": [
    "## Objetivo General\n",
    "* Clasificar imágenes de rostros como hombre o mujeres.\n",
    "\n",
    "## Objetivos Específicos\n",
    "1. Acondicionar las imágenes para su uso.\n",
    "2. Transformar las imágenes a un conjunto de características discriminantes utilizando PCA y LDA.\n",
    "3. Implementar las funciones de densidad de probabilidades para cada género.\n",
    "4. Utilizar el teorema de bayes para clasificar las caras."
   ]
  },
  {
   "cell_type": "markdown",
   "metadata": {
    "slideshow": {
     "slide_type": "slide"
    }
   },
   "source": [
    "## Cargar imágenes y sus etiquetas"
   ]
  },
  {
   "cell_type": "code",
   "execution_count": 1,
   "metadata": {
    "slideshow": {
     "slide_type": "fragment"
    }
   },
   "outputs": [
    {
     "name": "stdout",
     "output_type": "stream",
     "text": [
      "(25, 25)\n"
     ]
    }
   ],
   "source": [
    "from os import listdir\n",
    "from os.path import isfile, join\n",
    "import re\n",
    "from PIL import Image, ImageOps\n",
    "import matplotlib.pyplot as plt\n",
    "import numpy as np\n",
    "\n",
    "# Cargar base de datos hombres y mujeres\n",
    "def load_database_gender(mypath, label=0, grayscale=False, scale=None, flatten=False):\n",
    "    files = [join(mypath, f) for f in listdir(mypath) if isfile(join(mypath, f))]\n",
    "    X = []\n",
    "    y = []\n",
    "    for file in files:\n",
    "        y.append(label)\n",
    "        with Image.open(file) as img:\n",
    "            if grayscale:\n",
    "                img = ImageOps.grayscale(img)\n",
    "            if scale is not None:\n",
    "                img = img.resize(scale) \n",
    "                # Transformo las imágenes a vectores numpy\n",
    "            if flatten:\n",
    "                img = np.array(img).flatten()\n",
    "            else: # Transformo solo a matrix numpy\n",
    "                img = np.array(img)\n",
    "            X.append(img)\n",
    "    \n",
    "    return X, y\n",
    "        \n",
    "# path donde se encuentran las imágenes de hombres\n",
    "mypath = 'database/Training/male' \n",
    "\n",
    "#X_male_train, y_male_train = load_database_gender(mypath, label=0, grayscale=True)\n",
    "#plt.imshow(X_male_train[10])\n",
    "\n",
    "X_male_train, y_male_train = load_database_gender(mypath, label=0, grayscale=True, scale=(25,25), flatten=False)\n",
    "print(X_male_train[0].shape)"
   ]
  },
  {
   "cell_type": "markdown",
   "metadata": {
    "slideshow": {
     "slide_type": "slide"
    }
   },
   "source": [
    "## Cargar el conjunto de entrenamiento y de validación\n",
    "\n",
    "Escriba el código para cargar el conjunto de entrenamiento (mujeres y hombres) y el de validación (mujeres y hombres).\n",
    "\n",
    "La imagen debe ser de $25\\times25$. Se utilizará la etiqueta **0 para hombre** y **1 para mujeres**."
   ]
  },
  {
   "cell_type": "code",
   "execution_count": null,
   "metadata": {
    "slideshow": {
     "slide_type": "slide"
    }
   },
   "outputs": [],
   "source": [
    "# Escriba el código aquí"
   ]
  },
  {
   "cell_type": "code",
   "execution_count": 2,
   "metadata": {
    "slideshow": {
     "slide_type": "slide"
    }
   },
   "outputs": [
    {
     "data": {
      "text/plain": [
       "<matplotlib.image.AxesImage at 0x7fed789ee990>"
      ]
     },
     "execution_count": 2,
     "metadata": {},
     "output_type": "execute_result"
    },
    {
     "data": {
      "image/png": "[encoded data removed]",
      "text/plain": [
       "<Figure size 432x288 with 1 Axes>"
      ]
     },
     "metadata": {
      "needs_background": "light"
     },
     "output_type": "display_data"
    }
   ],
   "source": [
    "# Escriba el código aquí\n",
    "mypath = 'database/Training/male' \n",
    "X_male_train, y_male_train = load_database_gender(mypath, label=0, grayscale=True, scale=(25,25))\n",
    "plt.imshow(X_male_train[10], cmap='gray', vmin=0, vmax=255)\n",
    "\n",
    "mypath = 'database/Training/female' \n",
    "X_female_train, y_female_train = load_database_gender(mypath, label=1, grayscale=True, scale=(25,25))\n",
    "plt.imshow(X_female_train[0], cmap='gray', vmin=0, vmax=255)"
   ]
  },
  {
   "cell_type": "code",
   "execution_count": 7,
   "metadata": {},
   "outputs": [
    {
     "data": {
      "text/plain": [
       "<matplotlib.image.AxesImage at 0x7fed78405e10>"
      ]
     },
     "execution_count": 7,
     "metadata": {},
     "output_type": "execute_result"
    },
    {
     "data": {
      "image/png": "[encoded data removed]",
      "text/plain": [
       "<Figure size 432x288 with 1 Axes>"
      ]
     },
     "metadata": {
      "needs_background": "light"
     },
     "output_type": "display_data"
    }
   ],
   "source": [
    "# Imágenes de hombres\n",
    "plt.imshow(X_male_train[1], cmap='gray', vmin=0, vmax=255)"
   ]
  },
  {
   "cell_type": "code",
   "execution_count": null,
   "metadata": {},
   "outputs": [],
   "source": [
    "# Imágenes de mujeres\n",
    "plt.imshow(X_female_train[1], cmap='gray', vmin=0, vmax=255)"
   ]
  },
  {
   "cell_type": "markdown",
   "metadata": {
    "slideshow": {
     "slide_type": "slide"
    }
   },
   "source": [
    "## Transformar las imágenes a un nuevo conjunto de características discriminantes\n",
    "\n",
    "### PCA (_Principal Component Analysis_)\n",
    "\n",
    "En estadística, el análisis de componentes principales (en español ACP, en inglés, PCA) es una técnica utilizada para describir un conjunto de datos en términos de nuevas variables («componentes») no correlacionadas. Los componentes se ordenan por la cantidad de varianza original que describen, por lo que la técnica es útil para reducir la dimensionalidad de un conjunto de datos. \n",
    "\n",
    "https://es.wikipedia.org/wiki/An%C3%A1lisis_de_componentes_principales"
   ]
  },
  {
   "cell_type": "markdown",
   "metadata": {
    "slideshow": {
     "slide_type": "slide"
    }
   },
   "source": [
    "### Transformar los datos a formato sklearn\n",
    "\n",
    "Convertir la lista de vectores `numpy` a una matriz `numpy`"
   ]
  },
  {
   "cell_type": "code",
   "execution_count": 8,
   "metadata": {
    "slideshow": {
     "slide_type": "fragment"
    }
   },
   "outputs": [
    {
     "name": "stdout",
     "output_type": "stream",
     "text": [
      "Largo de la lista: 23766\n",
      "Forma de matriz: (23766, 625)\n"
     ]
    }
   ],
   "source": [
    "mypath = 'database/Training/male' \n",
    "X_male_train, y_male_train = load_database_gender(mypath, label=0, grayscale=True, scale=(25,25), flatten=True)\n",
    "print(f'Largo de la lista: {len(X_male_train)}')\n",
    "X_male_train = np.vstack(X_male_train)\n",
    "print(f'Forma de matriz: {X_male_train.shape}')\n",
    "\n",
    "mypath = 'database/Training/female' \n",
    "X_female_train, y_female_train = load_database_gender(mypath, label=1, grayscale=True, scale=(25,25), flatten=True)"
   ]
  },
  {
   "cell_type": "markdown",
   "metadata": {
    "slideshow": {
     "slide_type": "slide"
    }
   },
   "source": [
    "### Aplicar PCA con sklearn"
   ]
  },
  {
   "cell_type": "code",
   "execution_count": 9,
   "metadata": {
    "slideshow": {
     "slide_type": "fragment"
    }
   },
   "outputs": [
    {
     "name": "stdout",
     "output_type": "stream",
     "text": [
      "(47009, 625)\n"
     ]
    },
    {
     "data": {
      "text/plain": [
       "PCA(n_components=2)"
      ]
     },
     "execution_count": 9,
     "metadata": {},
     "output_type": "execute_result"
    }
   ],
   "source": [
    "from sklearn.decomposition import PCA\n",
    "\n",
    "# Concateno las matrices de hombres y mujeres\n",
    "X = np.vstack((X_male_train, X_female_train))\n",
    "print(X.shape)\n",
    "pca = PCA(n_components=2)\n",
    "pca.fit(X)"
   ]
  },
  {
   "cell_type": "markdown",
   "metadata": {
    "slideshow": {
     "slide_type": "slide"
    }
   },
   "source": [
    "### Visualizar PCA"
   ]
  },
  {
   "cell_type": "code",
   "execution_count": 10,
   "metadata": {
    "slideshow": {
     "slide_type": "fragment"
    }
   },
   "outputs": [
    {
     "name": "stdout",
     "output_type": "stream",
     "text": [
      "(23243, 2)\n"
     ]
    }
   ],
   "source": [
    "pca_male_train = pca.transform(X_male_train)\n",
    "pca_female_train = pca.transform(X_female_train)\n",
    "\n",
    "print(pca_female_train.shape)"
   ]
  },
  {
   "cell_type": "markdown",
   "metadata": {
    "slideshow": {
     "slide_type": "slide"
    }
   },
   "source": [
    "# Graficar ambos PCA"
   ]
  },
  {
   "cell_type": "code",
   "execution_count": 11,
   "metadata": {
    "slideshow": {
     "slide_type": "fragment"
    }
   },
   "outputs": [
    {
     "data": {
      "text/plain": [
       "<matplotlib.legend.Legend at 0x7fed743c1510>"
      ]
     },
     "execution_count": 11,
     "metadata": {},
     "output_type": "execute_result"
    },
    {
     "data": {
      "image/png": "[encoded data removed]",
      "text/plain": [
       "<Figure size 432x288 with 1 Axes>"
      ]
     },
     "metadata": {
      "needs_background": "light"
     },
     "output_type": "display_data"
    }
   ],
   "source": [
    "plt.scatter(pca_male_train[:, 0], pca_male_train[:, 1], label='Hombres')\n",
    "plt.scatter(pca_female_train[:, 0], pca_female_train[:, 1], label='Mujeres')\n",
    "plt.xlabel('PCA 1')\n",
    "plt.ylabel('PCA 2')\n",
    "plt.title('Proyección PCA y su clase')\n",
    "plt.legend()"
   ]
  },
  {
   "cell_type": "markdown",
   "metadata": {
    "slideshow": {
     "slide_type": "slide"
    }
   },
   "source": [
    "### Proyección LDA (_Linear Discriminant Analysis_)"
   ]
  },
  {
   "cell_type": "code",
   "execution_count": 14,
   "metadata": {
    "slideshow": {
     "slide_type": "fragment"
    }
   },
   "outputs": [
    {
     "data": {
      "text/plain": [
       "LinearDiscriminantAnalysis()"
      ]
     },
     "execution_count": 14,
     "metadata": {},
     "output_type": "execute_result"
    }
   ],
   "source": [
    "import numpy as np\n",
    "from sklearn.discriminant_analysis import LinearDiscriminantAnalysis\n",
    "X = np.vstack((X_male_train, X_female_train))\n",
    "y = y_male_train + y_female_train\n",
    "clf = LinearDiscriminantAnalysis()\n",
    "clf.fit(X, y)\n"
   ]
  },
  {
   "cell_type": "markdown",
   "metadata": {
    "slideshow": {
     "slide_type": "slide"
    }
   },
   "source": [
    "### Visualizar LDA"
   ]
  },
  {
   "cell_type": "code",
   "execution_count": 15,
   "metadata": {
    "slideshow": {
     "slide_type": "fragment"
    }
   },
   "outputs": [
    {
     "name": "stdout",
     "output_type": "stream",
     "text": [
      "(23766, 1)\n"
     ]
    },
    {
     "data": {
      "text/plain": [
       "<matplotlib.legend.Legend at 0x7fed74195e50>"
      ]
     },
     "execution_count": 15,
     "metadata": {},
     "output_type": "execute_result"
    },
    {
     "data": {
      "image/png": "[encoded data removed]",
      "text/plain": [
       "<Figure size 432x288 with 1 Axes>"
      ]
     },
     "metadata": {
      "needs_background": "light"
     },
     "output_type": "display_data"
    }
   ],
   "source": [
    "lda_male = clf.transform(X_male_train)\n",
    "print(lda_male.shape)\n",
    "lda_female = clf.transform(X_female_train)\n",
    "\n",
    "\n",
    "plt.hist(lda_male, bins=60, alpha=1, edgecolor = 'black',  linewidth=1, label='Hombres')\n",
    "plt.hist(lda_female, bins=60, alpha=1, edgecolor = 'black',  linewidth=1, label='Mujeres')\n",
    "\n",
    "\n",
    "plt.xlabel('LDA')\n",
    "plt.ylabel('frecuencia')\n",
    "plt.title('Histogramas de componente LDA dado el género')\n",
    "plt.grid(False)\n",
    "plt.legend()"
   ]
  },
  {
   "cell_type": "markdown",
   "metadata": {
    "slideshow": {
     "slide_type": "slide"
    }
   },
   "source": [
    "## Laboratorio:\n",
    "\n",
    "* Construir las funciones de densidad de probabilidad para $P(X|Male)$ y $P(X|Female)$.\n",
    "* Clasificar una imagen utilizando el Teorema de Bayes $P(Male|X)$\n",
    "* Pruebe los siguientes modelos:\n",
    "  * Aplique a las imágenes LDA y construya y pruebe el clasificador.\n",
    "  * Aplique a las imágenes PCA y retenga 50 características, luego aplique LDA. Construya y pruebe el clasificador.\n",
    "  * Aplique a las imágenes PCA y retenga 100 características, luego aplique LDA. Construya y pruebe el clasificador.\n",
    "  * Aplique a las imágenes PCA y retenga 150 características, luego aplique LDA. Construya y pruebe el clasificador.\n",
    "  \n",
    "¿Qué clasificador tiene mejor rendimiento?\n",
    "\n",
    "**Entrega: 15 de Enero hasta las 23:00 horas.**"
   ]
  },
  {
   "cell_type": "markdown",
   "metadata": {
    "slideshow": {
     "slide_type": "slide"
    }
   },
   "source": [
    "## Matemáticas\n",
    "\n",
    "Aplicaremos el teorema de bayes para construir el clasificador:\n",
    "\n",
    "La regla se Bayes:\n",
    "\n",
    "\\begin{equation}\n",
    "p(X_1 \\mid X_2) = \\frac{p(X_2 \\mid X_1)p(X_1)}{\\sum_{x_1} p(X_2 \\mid x_1)p(x_1)}\n",
    "\\end{equation}\n",
    "\n",
    "Se puede obtener, combinando las definiciones de **probabilidad condicional** y **marginalización**\n",
    "\n",
    "\\begin{equation}\n",
    "p(X_1 \\mid X_2) = \\frac{p(X_1,X_2)}{p(X_2)} = \\frac{p(X_2 \\mid X_1)p(X_1)}{\\sum_{x_1} p(X_2 \\mid x_1)p(x_1)}.\n",
    "\\end{equation}"
   ]
  },
  {
   "cell_type": "markdown",
   "metadata": {
    "slideshow": {
     "slide_type": "slide"
    }
   },
   "source": [
    "## Matemáticas\n",
    "\n",
    "En nuestro caso, las variables aleatorias LDA y G (Género). La variable aleatoria LDA puede tomar los valores  ($\\alpha_{LDA}$) y que representan los atributos de entrada. La variable G tiene valores discretos como etiquetas de salida hombre (0) y mujer (1).\n",
    "\n",
    "Desde la base de datos podemos obtener las funciones de densidad $f(LDA|G=hombre)$ y $f(LDA|G=Mujer)$. Tanto, $f(LDA|G=hombre)$ como $f(LDA|G=Mujer)$ pueden ser aproximadas a una función gaussiana o normal ($\\mathcal{N}(\\mu_{LDA|G}, \\sigma_{LDA|G})$).\n",
    "\n",
    "Para nuestro caso la función de densidad normal se define:\n",
    "\n",
    "\n",
    "\\begin{equation}\n",
    "f_{\\mu,\\sigma^2}(x) = \\frac{1}{\\sigma\\sqrt{2\\pi}}e^{-\\frac{(x-\\mu)^2}{2\\sigma^2}}, \\; x \\in \\mathbb{R}\n",
    "\\end{equation}\n",
    "\n",
    "\n",
    "\n",
    "\n"
   ]
  },
  {
   "cell_type": "markdown",
   "metadata": {
    "slideshow": {
     "slide_type": "slide"
    }
   },
   "source": [
    "## Matemáticas\n",
    "\n",
    "Adaptamos el teorema de bayes a nuestro problema\n",
    "\n",
    "\\begin{equation}\n",
    "F(G \\mid LDA) = \\frac{F(LDA \\mid G)p(G)}{\\sum_{x \\in (hombre, mujer)} p(LDA \\mid x)p(x)}\n",
    "\\end{equation}\n",
    "\n",
    "\n"
   ]
  },
  {
   "cell_type": "markdown",
   "metadata": {},
   "source": [
    "## Referencias\n",
    "* Revisiting Linear Discriminant Techniques in Gender Recognition.  Juan Bekios-Calfa, José M. Buenaposada, Luis Baumela. IEEE Transactions on Pattern Analysis and Machine Intelligence, PAMI. [PDF](http://www.dia.fi.upm.es/%7Epcr/publications/pami2011.pdf), [info](https://ieeexplore.ieee.org/document/5661777?arnumber=5661777)"
   ]
  }
 ],
 "metadata": {
  "celltoolbar": "Slideshow",
  "kernelspec": {
   "display_name": "Python 3",
   "language": "python",
   "name": "python3"
  },
  "language_info": {
   "codemirror_mode": {
    "name": "ipython",
    "version": 3
   },
   "file_extension": ".py",
   "mimetype": "text/x-python",
   "name": "python",
   "nbconvert_exporter": "python",
   "pygments_lexer": "ipython3",
   "version": "3.7.9"
  }
 },
 "nbformat": 4,
 "nbformat_minor": 4
}
